{
  "cells": [
    {
      "cell_type": "markdown",
      "metadata": {
        "id": "IXWK6p4vlKqm"
      },
      "source": [
        "# Lunar Lander — Double DQN\n",
        "\n",
        "2025, Artificial Intelligence, Sapienza.\n",
        "\n",
        "*Enrique Favila Martínez.*\n",
        "\n",
        "The purpose of this notebook is to train a **Double DQN** agent to solve Gymnasium's `LunarLander-v3`.\n",
        "\n",
        "The notebook is structured for better understanding:\n",
        "1. Set-up & imports  \n",
        "2. Hyper-parameters (Feel free to tweak)  \n",
        "3. Replay buffer  \n",
        "4. Neural network  \n",
        "5. Agent helpers (ε-greedy + optimisation)  \n",
        "6. Evaluation  \n",
        "7. Training loop & plotting  \n",
        "8. Run training *and see how it learns*\n",
        "9. Test the trained model on different scenarios and study it's behaviour\n",
        "\n"
      ],
      "id": "IXWK6p4vlKqm"
    },
    {
      "cell_type": "markdown",
      "source": [
        "## What is a **Double Deep Q-Network**?\n",
        "\n",
        "A **Double DQN** is a small—but powerful—upgrade to the original *Deep Q-Network (DQN)* that cures an optimism bug.\n",
        "\n",
        "---\n",
        "\n",
        "### The optimism bug in vanilla DQN\n",
        "1. **Select & judge with the same brain**  \n",
        "   *Plain DQN* uses **one** network to  \n",
        "   `argmax_a Q_online(s', a)` **and** to evaluate that action.  \n",
        "2. **Result → inflated Q-values**  \n",
        "   By choosing *and* scoring, the network keeps rewarding its own mistakes, so estimates drift too high and learning can wobble.\n",
        "\n",
        "---\n",
        "\n",
        "### How Double DQN fixes it\n",
        "| Role | Network | What it does |\n",
        "|------|---------|--------------|\n",
        "| **Action selector** | *Online (policy) net* | `a* ← argmax_a Q_online(s', a)` |\n",
        "| **Action evaluator** | *Target net* (lagged copy) | `target = r + γ Q_target(s', a*)` |\n",
        "\n",
        "*Two minds:*  \n",
        "*One* picks the move, the *other* assigns the score → no self-flattery.\n",
        "\n",
        "---\n",
        "\n",
        "### Why we use it in Lunar Lander\n",
        "* **Stabler learning curves** – fewer reward spikes & crashes.  \n",
        "* **Better final scores** – ships typically “solve” (≥ 200 avg reward) faster.  \n",
        "* **Negligible overhead** – just one extra forward pass per update.\n",
        "\n",
        "> *Bottom line:* Double DQN lands the rocket sooner while keeping the code almost as simple as plain DQN."
      ],
      "metadata": {
        "id": "0MvCtn4CQZnL"
      },
      "id": "0MvCtn4CQZnL"
    },
    {
      "cell_type": "markdown",
      "metadata": {
        "id": "zI9Zeqw8lKqn"
      },
      "source": [
        "## Install required packages\n",
        "Swig is a library needed for Gymansium which is the environment that our agent use to learn, by reading the environment properties.\n",
        "\n",
        "(*position, velocity, pad to land, ship legs, boosters; as a vector*)\n"
      ],
      "id": "zI9Zeqw8lKqn"
    },
    {
      "cell_type": "code",
      "source": [
        "!pip install swig\n",
        "!pip install \"gymnasium[box2d]\""
      ],
      "metadata": {
        "colab": {
          "base_uri": "https://localhost:8080/"
        },
        "id": "nREQJ_bZlXmK",
        "outputId": "92be68f9-1bf4-43c9-afad-9fdec40b2738"
      },
      "id": "nREQJ_bZlXmK",
      "execution_count": null,
      "outputs": [
        {
          "output_type": "stream",
          "name": "stdout",
          "text": [
            "Collecting swig\n",
            "  Downloading swig-4.3.1-py3-none-manylinux_2_12_x86_64.manylinux2010_x86_64.whl.metadata (3.5 kB)\n",
            "Downloading swig-4.3.1-py3-none-manylinux_2_12_x86_64.manylinux2010_x86_64.whl (1.9 MB)\n",
            "\u001b[2K   \u001b[90m━━━━━━━━━━━━━━━━━━━━━━━━━━━━━━━━━━━━━━━━\u001b[0m \u001b[32m1.9/1.9 MB\u001b[0m \u001b[31m13.3 MB/s\u001b[0m eta \u001b[36m0:00:00\u001b[0m\n",
            "\u001b[?25hInstalling collected packages: swig\n",
            "Successfully installed swig-4.3.1\n",
            "Requirement already satisfied: gymnasium[box2d] in /usr/local/lib/python3.11/dist-packages (1.1.1)\n",
            "Requirement already satisfied: numpy>=1.21.0 in /usr/local/lib/python3.11/dist-packages (from gymnasium[box2d]) (2.0.2)\n",
            "Requirement already satisfied: cloudpickle>=1.2.0 in /usr/local/lib/python3.11/dist-packages (from gymnasium[box2d]) (3.1.1)\n",
            "Requirement already satisfied: typing-extensions>=4.3.0 in /usr/local/lib/python3.11/dist-packages (from gymnasium[box2d]) (4.13.2)\n",
            "Requirement already satisfied: farama-notifications>=0.0.1 in /usr/local/lib/python3.11/dist-packages (from gymnasium[box2d]) (0.0.4)\n",
            "Collecting box2d-py==2.3.5 (from gymnasium[box2d])\n",
            "  Downloading box2d-py-2.3.5.tar.gz (374 kB)\n",
            "\u001b[2K     \u001b[90m━━━━━━━━━━━━━━━━━━━━━━━━━━━━━━━━━━━━━━━\u001b[0m \u001b[32m374.4/374.4 kB\u001b[0m \u001b[31m6.1 MB/s\u001b[0m eta \u001b[36m0:00:00\u001b[0m\n",
            "\u001b[?25h  Preparing metadata (setup.py) ... \u001b[?25l\u001b[?25hdone\n",
            "Requirement already satisfied: pygame>=2.1.3 in /usr/local/lib/python3.11/dist-packages (from gymnasium[box2d]) (2.6.1)\n",
            "Requirement already satisfied: swig==4.* in /usr/local/lib/python3.11/dist-packages (from gymnasium[box2d]) (4.3.1)\n",
            "Building wheels for collected packages: box2d-py\n",
            "  Building wheel for box2d-py (setup.py) ... \u001b[?25l\u001b[?25hdone\n",
            "  Created wheel for box2d-py: filename=box2d_py-2.3.5-cp311-cp311-linux_x86_64.whl size=2379372 sha256=e4379997ca2752a9deafc29caaea7a00d1e4fc5a5c823cbe098e946b1ed5ef0e\n",
            "  Stored in directory: /root/.cache/pip/wheels/ab/f1/0c/d56f4a2bdd12bae0a0693ec33f2f0daadb5eb9753c78fa5308\n",
            "Successfully built box2d-py\n",
            "Installing collected packages: box2d-py\n",
            "Successfully installed box2d-py-2.3.5\n"
          ]
        }
      ]
    },
    {
      "cell_type": "code",
      "metadata": {
        "id": "8qg9wWR9lKqn"
      },
      "source": [
        "\n",
        "import random\n",
        "from collections import deque, namedtuple\n",
        "from dataclasses import dataclass\n",
        "from pathlib import Path\n",
        "from typing import List, Tuple\n",
        "\n",
        "import gymnasium as gym\n",
        "import numpy as np\n",
        "import torch\n",
        "import torch.nn as nn\n",
        "import torch.optim as optim\n"
      ],
      "execution_count": null,
      "outputs": [],
      "id": "8qg9wWR9lKqn"
    },
    {
      "cell_type": "markdown",
      "source": [
        "## Seed creation\n",
        "\n",
        "### Why do we **set a random seed**?\n",
        "\n",
        "Machine-learning runs can drift wildly if every source of randomness\n",
        "(floats, shuffles, GPU kernels) changes each time.  \n",
        "A **fixed seed** pins the dice rolls so you can debug, compare models,\n",
        "and publish reproducible results.\n",
        "\n",
        "---\n",
        "\n",
        "### Where the randomness comes from\n",
        "| Component | Typical calls | What it affects |\n",
        "|-----------|---------------|-----------------|\n",
        "| **Python `random`** | `random.random()` | ε-greedy action picks, buffer shuffles |\n",
        "| **NumPy RNG** | `np.random.rand()` |  weight initialisation, batch sampling |\n",
        "| **PyTorch RNG** | `torch.randn()` |  network weights, dropout, cuda ops |\n",
        "| **cuDNN kernels** | GPU convolutions / GEMMs |  tiny numeric noise that can diverge |\n",
        "\n",
        "---\n",
        "\n",
        "### Seed setup used in the notebook\n",
        "```python\n",
        "def set_seed(seed=42):\n",
        "    import random, numpy as np, torch\n",
        "    random.seed(seed)\n",
        "    np.random.seed(seed)\n",
        "    torch.manual_seed(seed)\n",
        "    torch.cuda.manual_seed_all(seed)\n",
        "    torch.backends.cudnn.deterministic = True\n",
        "    torch.backends.cudnn.benchmark     = False\n"
      ],
      "metadata": {
        "id": "4cYx1WWW0IH-"
      },
      "id": "4cYx1WWW0IH-"
    },
    {
      "cell_type": "code",
      "source": [
        "\n",
        "# Reproducibility\n",
        "def set_seed(seed: int = 42):\n",
        "    random.seed(seed)\n",
        "    np.random.seed(seed)\n",
        "    torch.manual_seed(seed)\n",
        "    torch.cuda.manual_seed_all(seed)\n",
        "    torch.backends.cudnn.deterministic = True\n",
        "    torch.backends.cudnn.benchmark = False\n"
      ],
      "metadata": {
        "id": "lnQGDARl0Kfe"
      },
      "id": "lnQGDARl0Kfe",
      "execution_count": null,
      "outputs": []
    },
    {
      "cell_type": "markdown",
      "metadata": {
        "id": "c5Dg78cMlKqo"
      },
      "source": [
        "## Hyper-parameters & what they control\n",
        "\n",
        "| Name | Default | What it influences | Typical tuning range |\n",
        "|------|---------|--------------------|----------------------|\n",
        "| `episodes` | **1000** | Hard cap on how many training episodes we’ll run (early-stop can cut it short). | 400 – 3000 |\n",
        "| `gamma` | **0.99** | Discount factor Γ – how far into the future rewards matter. Closer to 1 ➜ longer-term planning. | 0.95 – 0.999 |\n",
        "| `lr` | **1e-3** | Adam learning-rate – size of each gradient step. Too high → divergence; too low → slow learning. | 1e-4 – 3e-3 |\n",
        "| `batch_size` | **64** | Transitions drawn per optimiser step. Bigger batches smooth gradients but need more RAM. | 32 – 256 |\n",
        "| `memory_capacity` | **100 000** | Max transitions stored in replay buffer. Larger = more diverse experience, slower sampling. | 50k – 500k |\n",
        "| `start_learn_after` | **10 000** | Environment steps to collect **before** the first gradient update (lets the buffer fill). | 1k – 20k |\n",
        "| `tau` | **5e-3** | Soft-update rate for target net (θ_target ← (1-τ)θ_target + τθ_policy). Smaller τ = stabler but slower. | 1e-3 – 1e-2 |\n",
        "| `eps_start` | **1.0** | Initial ε for ε-greedy – start fully random to explore. | 0.9 – 1.0 |\n",
        "| `eps_end` | **0.05** | Floor on ε – keeps a trickle of exploration forever. | 0.01 – 0.1 |\n",
        "| `eps_decay` | **40 000** | Steps over which ε decays linearly from `eps_start` to `eps_end`. | 20k – 100k |\n",
        "| `eval_every` | **50** | Episodes between evaluation runs (greedy, no learning). | 20 – 100 |\n",
        "| `min_avg_score` | **200** | 100-episode moving-average reward that triggers early stopping (“solved” threshold). | 180 – 250 |\n",
        "\n",
        "---\n",
        "\n",
        "### Quick tuning tips\n",
        "\n",
        "* **Learning stalls?** – raise `batch_size` or lower `lr`.  \n",
        "* **Over-optimistic Q-values?** – decrease `tau` or try `gamma = 0.98`.  \n",
        "* **Agent still exploring too much late in training?** – raise `eps_decay` or lower `eps_end`.  \n",
        "* **Running out of RAM?** – cut `memory_capacity` in half; performance usually barely changes.\n",
        "\n",
        "> *Remember:* most settings interact — tweak one knob at a time so you know which change helped.\n",
        "\n",
        "Feel free to change hyperparameters to get different training results!"
      ],
      "id": "c5Dg78cMlKqo"
    },
    {
      "cell_type": "code",
      "metadata": {
        "id": "crLu8VAXlKqo"
      },
      "source": [
        "\n",
        "@dataclass\n",
        "class Config:\n",
        "    episodes: int = 1000\n",
        "    gamma: float = 0.99\n",
        "    lr: float = 1e-3\n",
        "    batch_size: int = 64\n",
        "    memory_capacity: int = 100_000\n",
        "    start_learn_after: int = 10_000\n",
        "    tau: float = 5e-3\n",
        "    eps_start: float = 1.0\n",
        "    eps_end: float = 0.05\n",
        "    eps_decay: int = 40_000\n",
        "    eval_every: int = 50\n",
        "    min_avg_score: float = 200\n"
      ],
      "execution_count": null,
      "outputs": [],
      "id": "crLu8VAXlKqo"
    },
    {
      "cell_type": "markdown",
      "metadata": {
        "id": "KXNRGFSRlKqo"
      },
      "source": [
        "## What is a **Replay Buffer** (Experience Replay)?\n",
        "\n",
        "A **replay buffer** is just a big circular list that stores every\n",
        "(state, action, reward, next_state, done) tuple the agent experiences.\n",
        "During learning we sample random mini-batches from it instead of using\n",
        "*only the newest* transition.  \n",
        "That single idea makes off-policy methods like DQN stable and data-efficient.\n",
        "\n",
        "---\n",
        "\n",
        "### Why bother storing old transitions?\n",
        "\n",
        "| Problem without a buffer | How replay fixes it |\n",
        "|--------------------------|---------------------|\n",
        "| **Strong correlation** – consecutive frames are almost identical; SGD expects i.i.d. samples. | Random sampling breaks the correlation, giving cleaner gradient estimates. |\n",
        "| **Catastrophic forgetting** – new experiences overwrite older, still-important states. | Mixing old & new keeps rare but critical transitions in play. |\n",
        "| **Inefficient GPU use** – one frame → one update. | Bigger batches keep the GPU busy and amortise Python overhead. |\n",
        "\n",
        "---\n",
        "\n",
        "### The fields we keep\n",
        "\n",
        "| Tuple element | Shape / dtype | Why we need it |\n",
        "|---------------|---------------|----------------|\n",
        "| `state`       | `np.float32[8]` | Starting observation for this step. |\n",
        "| `action`      | `int`          | Which thruster command was chosen. |\n",
        "| `reward`      | `float`        | Immediate scalar reward from the env. |\n",
        "| `next_state`  | `np.float32[8]` | Observation **after** the action. |\n",
        "| `done`        | `bool`         | `True` if episode has ended (crash or landing). |\n",
        "\n",
        "---\n",
        "\n",
        "### Key hyper-parameters\n",
        "\n",
        "| Name in `Config` | Default | What it does |\n",
        "|------------------|---------|--------------|\n",
        "| `memory_capacity` | **100 000** | Max number of transitions kept; older ones drop off the back of the deque. |\n",
        "| `batch_size`      | **64**       | How many transitions we draw per optimiser step. |\n",
        "| `start_learn_after` | **10 000 steps** | Don’t sample until we have at least this many transitions — ensures batches are diverse. |\n",
        "\n",
        "---\n",
        "\n",
        "### How it plugs into training\n",
        "\n",
        "```python\n",
        "memory.push(state, action, reward, next_state, done)     # store new experience\n",
        "\n",
        "if len(memory) >= cfg.start_learn_after:\n",
        "    batch = memory.sample(cfg.batch_size)                # random mini-batch\n",
        "    q_loss = compute_td_loss(batch)                      # optimise policy_net\n"
      ],
      "id": "KXNRGFSRlKqo"
    },
    {
      "cell_type": "code",
      "metadata": {
        "id": "W8hhSCe-lKqo"
      },
      "source": [
        "\n",
        "Transition = namedtuple(\"Transition\", (\"state\", \"action\", \"reward\", \"next_state\", \"done\"))\n",
        "\n",
        "class ReplayMemory:\n",
        "    \"\"\"Fixed‑size buffer that stores experience tuples.\"\"\"\n",
        "    def __init__(self, capacity: int):\n",
        "        self.memory = deque(maxlen=capacity)\n",
        "\n",
        "    def push(self, *args):\n",
        "        self.memory.append(Transition(*args))\n",
        "\n",
        "    def sample(self, batch_size: int):\n",
        "        batch = random.sample(self.memory, batch_size)\n",
        "        return Transition(*zip(*batch))\n",
        "\n",
        "    def __len__(self):\n",
        "        return len(self.memory)\n"
      ],
      "execution_count": null,
      "outputs": [],
      "id": "W8hhSCe-lKqo"
    },
    {
      "cell_type": "markdown",
      "metadata": {
        "id": "IIvFcmzXlKqo"
      },
      "source": [
        "### Neural network\n",
        "## What is a **Deep Q-Network (DQN)?**\n",
        "\n",
        "A **DQN** is the combination of two classic ideas:  \n",
        "1. **Q-learning** – learn an action-value function *Q(s, a)* by bootstrapping.  \n",
        "2. **Deep neural nets** – replace the tabular Q-table with a function approximator that works on continuous, high-dimensional states.\n",
        "\n",
        "The network takes the current state (8 floats in Lunar Lander) and spits out **one Q-value per action** (4 thruster commands).  \n",
        "During play we just pick `argmax_a Q(s, a)`; during training we update the weights so those Q-values satisfy the Bellman equation.\n",
        "\n",
        "---\n",
        "\n",
        "### One-cycle overview\n",
        "\n",
        "| Step | What happens | Code hook in the notebook |\n",
        "|------|--------------|---------------------------|\n",
        "| ① Collect a transition | `(s, a, r, s', done)` goes into the replay buffer. | `memory.push(…)` |\n",
        "| ② Sample a batch | Get *batch_size* random transitions. | `memory.sample(…)` |\n",
        "| ③ Forward pass | `q_pred = policy_net(s).gather(a)` | inside `optimize_model` |\n",
        "| ④ Build TD-target | `r + γ · max_a' Q_target(s', a')` (DQN) **or** the Double-DQN variant. | same place |\n",
        "| ⑤ Back-prop | MSE / Huber loss → Adam step. | `optimizer.step()` |\n",
        "\n",
        "---\n",
        "\n",
        "### DQN **vs** Double DQN\n",
        "\n",
        "| Aspect | **Plain DQN** | **Double DQN** |\n",
        "|--------|---------------|----------------|\n",
        "| Who picks *a′*? | `policy_net` | `policy_net` |\n",
        "| Who evaluates *a′*? | **same** `policy_net` | **lagged** `target_net` |\n",
        "| Result | Over-estimates → twitchy learning | Truer Q’s → smoother learning |\n",
        "\n",
        "---\n"
      ],
      "id": "IIvFcmzXlKqo"
    },
    {
      "cell_type": "code",
      "metadata": {
        "id": "9SrLGPB6lKqo"
      },
      "source": [
        "\n",
        "class DQN(nn.Module):\n",
        "    \"\"\"Small MLP that outputs action‑values.\"\"\"\n",
        "    def __init__(self, obs_dim: int, act_dim: int):\n",
        "        super().__init__()\n",
        "        self.net = nn.Sequential(\n",
        "            nn.Linear(obs_dim, 128),\n",
        "            nn.ReLU(),\n",
        "            nn.Linear(128, 64),\n",
        "            nn.ReLU(),\n",
        "            nn.Linear(64, act_dim),\n",
        "        )\n",
        "\n",
        "    def forward(self, x):\n",
        "        return self.net(x)\n"
      ],
      "execution_count": null,
      "outputs": [],
      "id": "9SrLGPB6lKqo"
    },
    {
      "cell_type": "markdown",
      "metadata": {
        "id": "SBFmdcP4lKqo"
      },
      "source": [
        "\n",
        "### Action-Selection & Optimisation helpers\n",
        "\n",
        "These two utility functions turn static networks into a learning, exploring agent.\n",
        "\n",
        "---\n",
        "\n",
        "### 1  `select_action(state, policy_net, step, cfg, device)`\n",
        "\n",
        "| Piece | Purpose |\n",
        "|-------|---------|\n",
        "| **ε-greedy rule** | Mixes exploration & exploitation:<br>`ε = ε_end + (ε_start − ε_end)·(1 − step / ε_decay)` → linearly decays from 1.0 to 0.05. |\n",
        "| **Random branch** | With probability ε pick `random.randrange(n_actions)` to try unseen moves. |\n",
        "| **Greedy branch** | Otherwise choose `argmax_a Q_policy(state, a)` via `policy_net(state)[0].argmax()`. |\n",
        "| **Device-safe** | Converts NumPy → `torch.Tensor` and pushes to *CPU / GPU* automatically. |\n",
        "\n",
        "> **Why it matters:** early on the agent needs to roam; later it should exploit what it has learned.  \n",
        "> A linear schedule is simple, fast, and usually good enough for Lunar Lander.\n",
        "\n",
        "---\n",
        "\n",
        "### 2  `optimize_model(memory, policy_net, target_net, optimizer, cfg, device)`\n",
        "\n",
        "| Stage | What happens | Code hint |\n",
        "|-------|--------------|-----------|\n",
        "| **Early-exit guard** | Skip if replay buffer < `start_learn_after` or `< batch_size`. | 2-line `return` shortcut |\n",
        "| **Sample batch** | `state, action, reward, next_state, done = memory.sample(batch_size)` (random, i.i.d.). |\n",
        "| **Forward pass** | `q_pred = policy_net(state).gather(1, action)` – predicted Q(s, a). |\n",
        "| **Double-DQN target** | <code>a*  = argmax_a Q_policy(s', a)</code><br><code>q_next = Q_target(s', a*)</code><br>`target = r + γ·(1 − done)·q_next` |\n",
        "| **Loss** | Smooth L1 (Huber) between `q_pred` and `target` – robust to outliers. |\n",
        "| **Back-prop** | `loss.backward()` → `optimizer.step()` (Adam). |\n",
        "| **Grad-clip** | `clip_grad_norm_(θ, 1.0)` tamps exploding gradients. |\n",
        "| **Soft target update** | θ_target ← (1 − τ)·θ_target + τ·θ_policy (τ = 0.005) keeps the target net a slow-moving average. |\n",
        "\n",
        "> **End result:** every time we call `optimize_model` the online network\n",
        "> nudges its Q-values toward a less-biased Double-DQN target, and the\n",
        "> target network drifts along quietly to provide fresh, stable labels next time.\n",
        "\n",
        "---\n",
        "\n",
        "### Quick tweaks you can try\n",
        "\n",
        "* **Change exploration shape** – cosine or exponential decay instead of linear.  \n",
        "* **Prioritised replay** – sample by TD-error, not uniform, for faster convergence.  \n",
        "* **Soft-update rate (`τ`)** – smaller ⇒ stabler but slower; larger ⇒ faster but riskier.  \n",
        "* **Gradient-clip value** – if you see exploding loss spikes, tighten from 1.0 to 0.5.\n",
        "\n",
        "With these two helpers in place the rest of the training loop boils down to:\n",
        "\n",
        "```python\n",
        "action = select_action(state, policy_net, step, cfg, device)\n",
        "next_state, reward, done, _, _ = env.step(action)\n",
        "memory.push(state, action, reward, next_state, done)\n",
        "optimize_model(memory, policy_net, target_net, optimizer, cfg, device)"
      ],
      "id": "SBFmdcP4lKqo"
    },
    {
      "cell_type": "code",
      "metadata": {
        "id": "Q9p53p9mlKqo"
      },
      "source": [
        "\n",
        "def select_action(state, policy_net, step, cfg, device):\n",
        "    \"\"\"ε‑greedy action selector with linear decay over *steps*.\"\"\"\n",
        "    eps = cfg.eps_end + (cfg.eps_start - cfg.eps_end) * max(0, (cfg.eps_decay - step)) / cfg.eps_decay\n",
        "    if random.random() < eps:\n",
        "        return random.randrange(policy_net.net[-1].out_features)\n",
        "    with torch.no_grad():\n",
        "        state_t = torch.as_tensor(state, dtype=torch.float32, device=device).unsqueeze(0)\n",
        "        return int(policy_net(state_t).argmax(1).item())\n",
        "\n",
        "def optimize_model(memory, policy_net, target_net, optimizer, cfg, device):\n",
        "    if len(memory) < cfg.start_learn_after or len(memory) < cfg.batch_size:\n",
        "        return\n",
        "\n",
        "    batch = memory.sample(cfg.batch_size)\n",
        "    state_b = torch.as_tensor(np.array(batch.state), dtype=torch.float32, device=device)\n",
        "    action_b = torch.as_tensor(batch.action, dtype=torch.int64, device=device).unsqueeze(1)\n",
        "    reward_b = torch.as_tensor(batch.reward, dtype=torch.float32, device=device).unsqueeze(1)\n",
        "    next_state_b = torch.as_tensor(np.array(batch.next_state), dtype=torch.float32, device=device)\n",
        "    done_b = torch.as_tensor(batch.done, dtype=torch.float32, device=device).unsqueeze(1)\n",
        "\n",
        "    q_values = policy_net(state_b).gather(1, action_b)\n",
        "    with torch.no_grad():\n",
        "        next_actions = policy_net(next_state_b).argmax(1, keepdim=True)\n",
        "        next_q = target_net(next_state_b).gather(1, next_actions)\n",
        "        target = reward_b + cfg.gamma * (1.0 - done_b) * next_q\n",
        "\n",
        "    criterion = nn.SmoothL1Loss()\n",
        "    loss = criterion(q_values, target)\n",
        "    optimizer.zero_grad(set_to_none=True)\n",
        "    loss.backward()\n",
        "    nn.utils.clip_grad_norm_(policy_net.parameters(), 1.0)\n",
        "    optimizer.step()\n",
        "\n",
        "    # Soft target update\n",
        "    with torch.no_grad():\n",
        "        for pt, p in zip(target_net.parameters(), policy_net.parameters()):\n",
        "            pt.data.mul_(1.0 - cfg.tau).add_(cfg.tau * p.data)\n"
      ],
      "execution_count": null,
      "outputs": [],
      "id": "Q9p53p9mlKqo"
    },
    {
      "cell_type": "markdown",
      "metadata": {
        "id": "GAaET-_6lKqo"
      },
      "source": [
        "\n",
        "### Evaluation helper\n",
        "\n",
        "Why keep evaluation separate\n",
        "1.\t**Noise-free metric** — no exploration randomness.\n",
        "2.\t**No side-effects** — weights & replay buffer stay untouched.\n",
        "3.\t**Early-stop trigger** — 100-episode moving average of these scores decides if we’ve “solved” the task (≥ 200).\n",
        "4.\t**Easy video capture** — wrap only the eval env in RecordVideo; training speed is unaffected."
      ],
      "id": "GAaET-_6lKqo"
    },
    {
      "cell_type": "code",
      "metadata": {
        "id": "yZBuvaholKqp"
      },
      "source": [
        "\n",
        "def evaluate_agent(env, policy_net, episodes=5, device=torch.device('cpu')):\n",
        "    \"\"\"Run policy greedily and return mean total reward.\"\"\"\n",
        "    scores = []\n",
        "    for _ in range(episodes):\n",
        "        state, _ = env.reset(seed=None)\n",
        "        done = False\n",
        "        total = 0.0\n",
        "        while not done:\n",
        "            with torch.no_grad():\n",
        "                action = int(policy_net(torch.as_tensor(state, dtype=torch.float32, device=device)[None]).argmax(1).item())\n",
        "            state, reward, done, trunc, _ = env.step(action)\n",
        "            done = done or trunc\n",
        "            total += reward\n",
        "        scores.append(total)\n",
        "    return float(np.mean(scores))\n"
      ],
      "execution_count": null,
      "outputs": [],
      "id": "yZBuvaholKqp"
    },
    {
      "cell_type": "markdown",
      "source": [
        "# Recording\n",
        "This function handles the recording for human inspection.\n",
        "\n",
        "Uses the best model available from the training, and will create a new video when there's a new evaluation in which the agent receives **at least 200+ reward score** compared to previous evaluation."
      ],
      "metadata": {
        "id": "NtYW4pT2tNH5"
      },
      "id": "NtYW4pT2tNH5"
    },
    {
      "cell_type": "code",
      "source": [
        "# --- OPTIONAL: record evaluation runs as MP4s -------------------------------\n",
        "import datetime\n",
        "from gymnasium.wrappers import RecordVideo\n",
        "\n",
        "def make_video_env():\n",
        "    \"\"\"Return a fresh env that records one episode to './videos/'.\"\"\"\n",
        "    timestamp = datetime.datetime.now().strftime(\"%Y%m%d-%H%M%S\")\n",
        "    env = gym.make(\n",
        "        \"LunarLander-v3\",\n",
        "        render_mode=\"rgb_array\",\n",
        "    )\n",
        "    return RecordVideo(\n",
        "        env,\n",
        "        video_folder=\"videos\",\n",
        "        name_prefix=f\"lander_{timestamp}\",\n",
        "        episode_trigger=lambda ep: True,\n",
        "    )\n",
        "\n",
        "def record_greedy_episode(policy_net, device=\"cpu\"):\n",
        "    \"\"\"Let the current policy land once and save the clip.\"\"\"\n",
        "    env = make_video_env()\n",
        "    state, _ = env.reset(seed=None)\n",
        "    done = False\n",
        "    while not done:\n",
        "        with torch.no_grad():\n",
        "            action = int(\n",
        "                policy_net(\n",
        "                    torch.as_tensor(state, dtype=torch.float32, device=device)[None]\n",
        "                ).argmax(1).item()\n",
        "            )\n",
        "        state, _, done, trunc, _ = env.step(action)\n",
        "        done = done or trunc\n",
        "    env.close()\n",
        "    print(\"Saved a video to ./videos/\")"
      ],
      "metadata": {
        "id": "XODtpFwCtPbR"
      },
      "id": "XODtpFwCtPbR",
      "execution_count": null,
      "outputs": []
    },
    {
      "cell_type": "markdown",
      "metadata": {
        "id": "u033KDYWlKqp"
      },
      "source": [
        "### Training loop & plotting\n",
        "Generates the plot for training history in terms of overall reward obtained on each episode."
      ],
      "id": "u033KDYWlKqp"
    },
    {
      "cell_type": "code",
      "metadata": {
        "id": "riMBU6QilKqp"
      },
      "source": [
        "\n",
        "import matplotlib.pyplot as plt\n",
        "from tqdm import trange\n",
        "\n",
        "def _plot_curve(rewards):\n",
        "    plt.plot(rewards)\n",
        "    plt.xlabel('Episode')\n",
        "    plt.ylabel('Reward')\n",
        "    plt.title('Training progress')\n",
        "    plt.grid(True)\n",
        "    plt.show()\n",
        "\n",
        "def train(cfg):\n",
        "    device = torch.device('cuda' if torch.cuda.is_available() else 'cpu')\n",
        "    env = gym.make('LunarLander-v3')\n",
        "    obs_dim = env.observation_space.shape[0]\n",
        "    act_dim = env.action_space.n\n",
        "\n",
        "    policy_net = DQN(obs_dim, act_dim).to(device)\n",
        "    target_net = DQN(obs_dim, act_dim).to(device)\n",
        "    target_net.load_state_dict(policy_net.state_dict())\n",
        "\n",
        "    optimizer = optim.Adam(policy_net.parameters(), lr=cfg.lr)\n",
        "    memory = ReplayMemory(cfg.memory_capacity)\n",
        "\n",
        "    all_rewards = []\n",
        "    best_score = -float('inf')\n",
        "    step = 0\n",
        "\n",
        "    for episode in trange(cfg.episodes, desc='Training', unit='ep'):\n",
        "        state, _ = env.reset(seed=None)\n",
        "        done = False\n",
        "        total_reward = 0.0\n",
        "\n",
        "        while not done:\n",
        "            action = select_action(state, policy_net, step, cfg, device)\n",
        "            next_state, reward, done, trunc, _ = env.step(action)\n",
        "            finished = done or trunc\n",
        "            memory.push(state, action, reward, next_state, finished)\n",
        "\n",
        "            state = next_state\n",
        "            total_reward += reward\n",
        "            step += 1\n",
        "\n",
        "            optimize_model(memory, policy_net, target_net, optimizer, cfg, device)\n",
        "\n",
        "        all_rewards.append(total_reward)\n",
        "\n",
        "        if (episode + 1) % cfg.eval_every == 0:\n",
        "            avg = evaluate_agent(env, policy_net, device=device)\n",
        "            if avg > best_score:\n",
        "                best_score = avg\n",
        "                torch.save(policy_net.state_dict(), 'best_model.pt')\n",
        "                record_greedy_episode(policy_net, device)   # <-- add this\n",
        "            print(f'\\n[Eval] ep {episode+1:3d}: avg reward = {avg:.1f}')\n",
        "\n",
        "            if len(all_rewards) >= 100 and np.mean(all_rewards[-100:]) >= cfg.min_avg_score:\n",
        "                print('Solved! Average reward ≥ 200. Early stopping.')\n",
        "                break\n",
        "\n",
        "    torch.save(policy_net.state_dict(), 'final_model.pt')\n",
        "    _plot_curve(all_rewards)\n",
        "    env.close()\n"
      ],
      "execution_count": null,
      "outputs": [],
      "id": "riMBU6QilKqp"
    },
    {
      "cell_type": "markdown",
      "metadata": {
        "id": "1zi_F-XglKqp"
      },
      "source": [
        "### Run training\n",
        "\n",
        "1000 episodes takes ~30 minutes with Colab's T4"
      ],
      "id": "1zi_F-XglKqp"
    },
    {
      "cell_type": "code",
      "metadata": {
        "colab": {
          "base_uri": "https://localhost:8080/",
          "height": 992
        },
        "id": "tzVPBdjdlKqp",
        "outputId": "31a270a3-5a73-433a-b978-bcc67722c8f2"
      },
      "source": [
        "\n",
        "set_seed()\n",
        "cfg = Config()  # Feel free to tweak, e.g. Config(episodes=800, lr=5e-4)\n",
        "train(cfg)\n"
      ],
      "execution_count": null,
      "outputs": [
        {
          "metadata": {
            "tags": null
          },
          "name": "stderr",
          "output_type": "stream",
          "text": [
            "Training:  12%|█▏        | 62/500 [00:02<00:23, 18.45ep/s]"
          ]
        },
        {
          "metadata": {
            "tags": null
          },
          "name": "stdout",
          "output_type": "stream",
          "text": [
            "Saved a video to ./videos/\n",
            "\n",
            "[Eval] ep  50: avg reward = -1263.7\n"
          ]
        },
        {
          "metadata": {
            "tags": null
          },
          "name": "stderr",
          "output_type": "stream",
          "text": [
            "Training:  20%|█▉        | 98/500 [00:03<00:09, 42.67ep/s]"
          ]
        },
        {
          "metadata": {
            "tags": null
          },
          "name": "stdout",
          "output_type": "stream",
          "text": [
            "\n",
            "[Eval] ep 100: avg reward = -1777.3\n"
          ]
        },
        {
          "metadata": {
            "tags": null
          },
          "name": "stderr",
          "output_type": "stream",
          "text": [
            "Training:  30%|██▉       | 149/500 [00:24<02:15,  2.58ep/s]/usr/local/lib/python3.11/dist-packages/gymnasium/wrappers/rendering.py:283: UserWarning: \u001b[33mWARN: Overwriting existing videos at /content/videos folder (try specifying a different `video_folder` for the `RecordVideo` wrapper if this is not desired)\u001b[0m\n",
            "  logger.warn(\n",
            "Training:  30%|███       | 150/500 [00:35<21:19,  3.66s/ep]"
          ]
        },
        {
          "metadata": {
            "tags": null
          },
          "name": "stdout",
          "output_type": "stream",
          "text": [
            "Saved a video to ./videos/\n",
            "\n",
            "[Eval] ep 150: avg reward = -169.0\n"
          ]
        },
        {
          "metadata": {
            "tags": null
          },
          "name": "stderr",
          "output_type": "stream",
          "text": [
            "Training:  40%|████      | 200/500 [01:06<13:28,  2.70s/ep]"
          ]
        },
        {
          "metadata": {
            "tags": null
          },
          "name": "stdout",
          "output_type": "stream",
          "text": [
            "\n",
            "[Eval] ep 200: avg reward = -181.0\n"
          ]
        },
        {
          "metadata": {
            "tags": null
          },
          "name": "stderr",
          "output_type": "stream",
          "text": [
            "Training:  50%|█████     | 250/500 [04:02<09:35,  2.30s/ep]"
          ]
        },
        {
          "metadata": {
            "tags": null
          },
          "name": "stdout",
          "output_type": "stream",
          "text": [
            "Saved a video to ./videos/\n",
            "\n",
            "[Eval] ep 250: avg reward = 11.3\n"
          ]
        },
        {
          "metadata": {
            "tags": null
          },
          "name": "stderr",
          "output_type": "stream",
          "text": [
            "Training:  60%|██████    | 300/500 [05:29<08:36,  2.58s/ep]"
          ]
        },
        {
          "metadata": {
            "tags": null
          },
          "name": "stdout",
          "output_type": "stream",
          "text": [
            "Saved a video to ./videos/\n",
            "\n",
            "[Eval] ep 300: avg reward = 154.0\n"
          ]
        },
        {
          "metadata": {
            "tags": null
          },
          "name": "stderr",
          "output_type": "stream",
          "text": [
            "Training:  70%|███████   | 350/500 [06:42<06:19,  2.53s/ep]"
          ]
        },
        {
          "metadata": {
            "tags": null
          },
          "name": "stdout",
          "output_type": "stream",
          "text": [
            "Saved a video to ./videos/\n",
            "\n",
            "[Eval] ep 350: avg reward = 221.1\n"
          ]
        },
        {
          "metadata": {
            "tags": null
          },
          "name": "stderr",
          "output_type": "stream",
          "text": [
            "Training:  80%|████████  | 400/500 [07:52<03:49,  2.30s/ep]"
          ]
        },
        {
          "metadata": {
            "tags": null
          },
          "name": "stdout",
          "output_type": "stream",
          "text": [
            "\n",
            "[Eval] ep 400: avg reward = 136.7\n"
          ]
        },
        {
          "output_type": "stream",
          "name": "stderr",
          "text": [
            "Training:  90%|█████████ | 450/500 [09:02<01:30,  1.82s/ep]"
          ]
        },
        {
          "output_type": "stream",
          "name": "stdout",
          "text": [
            "\n",
            "[Eval] ep 450: avg reward = 79.7\n"
          ]
        },
        {
          "output_type": "stream",
          "name": "stderr",
          "text": [
            "Training: 100%|██████████| 500/500 [10:11<00:00,  1.22s/ep]"
          ]
        },
        {
          "output_type": "stream",
          "name": "stdout",
          "text": [
            "\n",
            "[Eval] ep 500: avg reward = 160.8\n"
          ]
        },
        {
          "output_type": "stream",
          "name": "stderr",
          "text": [
            "\n"
          ]
        },
        {
          "output_type": "display_data",
          "data": {
            "text/plain": [
              "<Figure size 640x480 with 1 Axes>"
            ],
            "image/png": "[encoded data removed]"
          },
          "metadata": {}
        }
      ],
      "id": "tzVPBdjdlKqp"
    },
    {
      "cell_type": "markdown",
      "source": [
        "### Try the Run the new generated model!\n",
        "Now that training it's over, our best model has been saved to our files as \"best_model.pt\". We can test it using `LunarLander-v3`.\n",
        "\n",
        "You can change the *model_path* to the path of the best_model or final_model, the latter being the one used on the last training session.\n",
        "\n",
        "It will store a new video in videos wit the prefix \"*test_*\""
      ],
      "metadata": {
        "id": "iyV1G4gq5PiU"
      },
      "id": "iyV1G4gq5PiU"
    },
    {
      "cell_type": "code",
      "source": [
        "# 1  Make a video env (RGB frames)\n",
        "from gymnasium.wrappers import RecordVideo\n",
        "import gymnasium as gym, torch, numpy as np\n",
        "from pathlib import Path\n",
        "from IPython.display import HTML\n",
        "\n",
        "def record_episode(model_path=\"best_model.pt\", fname_prefix=\"test_\"):\n",
        "    timestamp = datetime.datetime.now().strftime(\"%Y%m%d-%H%M%S\")\n",
        "    env = RecordVideo(\n",
        "        gym.make(\"LunarLander-v3\", render_mode=\"rgb_array\"),\n",
        "        video_folder=\"videos\",\n",
        "        name_prefix=fname_prefix + timestamp,\n",
        "        episode_trigger=lambda ep: True,     # record first (only) episode\n",
        "    )\n",
        "\n",
        "    obs_dim  = env.observation_space.shape[0]\n",
        "    act_dim  = env.action_space.n\n",
        "    device   = torch.device(\"cpu\")\n",
        "\n",
        "    policy = DQN(obs_dim, act_dim).to(device)\n",
        "    policy.load_state_dict(torch.load(model_path, map_location=device))\n",
        "    policy.eval()\n",
        "\n",
        "    state, _ = env.reset()\n",
        "    done = False\n",
        "    while not done:\n",
        "        with torch.no_grad():\n",
        "            action = int(policy(torch.tensor(state, dtype=torch.float32)[None]).argmax())\n",
        "        state, _, done, trunc, _ = env.step(action)\n",
        "        done = done or trunc\n",
        "    env.close()\n",
        "\n",
        "    return sorted(Path(\"videos\").glob(f\"{fname_prefix}*.mp4\"))[-1]   # newest clip\n",
        "\n",
        "# 2️  Run it once\n",
        "video_path = record_episode(model_path=\"best_model.pt\")\n",
        "\n",
        "print(f'Landing recorded as \"{video_path}\"')"
      ],
      "metadata": {
        "colab": {
          "base_uri": "https://localhost:8080/"
        },
        "id": "K7tFn2mS5Tfu",
        "outputId": "581bc3de-a9a4-4813-b0da-1f7b365e1d59"
      },
      "id": "K7tFn2mS5Tfu",
      "execution_count": 15,
      "outputs": [
        {
          "output_type": "stream",
          "name": "stderr",
          "text": [
            "/usr/local/lib/python3.11/dist-packages/gymnasium/wrappers/rendering.py:283: UserWarning: \u001b[33mWARN: Overwriting existing videos at /content/videos folder (try specifying a different `video_folder` for the `RecordVideo` wrapper if this is not desired)\u001b[0m\n",
            "  logger.warn(\n"
          ]
        },
        {
          "output_type": "stream",
          "name": "stdout",
          "text": [
            "Landing recorded as \"videos/test_20250529-141440-episode-0.mp4\"\n"
          ]
        }
      ]
    },
    {
      "cell_type": "code",
      "source": [
        "def evaluate(agent, episodes=100):\n",
        "    env = gym.make(\"LunarLander-v3\")\n",
        "    scores = []\n",
        "    for _ in range(episodes):\n",
        "        s,_ = env.reset()\n",
        "        done = False; total = 0\n",
        "        while not done:\n",
        "            with torch.no_grad():\n",
        "                a = int(agent(torch.tensor(s, dtype=torch.float32)[None]).argmax())\n",
        "            s,r,done,trunc,_ = env.step(a)\n",
        "            done = done or trunc\n",
        "            total += r\n",
        "        scores.append(total)\n",
        "    env.close()\n",
        "    return np.mean(scores), np.std(scores)\n",
        "\n",
        "mean, std = evaluate(policy)\n",
        "print(f\"Average reward over 100 runs: {mean:.1f} ± {std:.1f}\")"
      ],
      "metadata": {
        "colab": {
          "base_uri": "https://localhost:8080/",
          "height": 198
        },
        "id": "GFrW-ksZ5qiu",
        "outputId": "e60d8669-80ff-4ce4-e858-4e8bdf4d5af8"
      },
      "id": "GFrW-ksZ5qiu",
      "execution_count": 16,
      "outputs": [
        {
          "output_type": "error",
          "ename": "NameError",
          "evalue": "name 'policy' is not defined",
          "traceback": [
            "\u001b[0;31m---------------------------------------------------------------------------\u001b[0m",
            "\u001b[0;31mNameError\u001b[0m                                 Traceback (most recent call last)",
            "\u001b[0;32m<ipython-input-16-a0fbf68f9b3b>\u001b[0m in \u001b[0;36m<cell line: 0>\u001b[0;34m()\u001b[0m\n\u001b[1;32m     15\u001b[0m     \u001b[0;32mreturn\u001b[0m \u001b[0mnp\u001b[0m\u001b[0;34m.\u001b[0m\u001b[0mmean\u001b[0m\u001b[0;34m(\u001b[0m\u001b[0mscores\u001b[0m\u001b[0;34m)\u001b[0m\u001b[0;34m,\u001b[0m \u001b[0mnp\u001b[0m\u001b[0;34m.\u001b[0m\u001b[0mstd\u001b[0m\u001b[0;34m(\u001b[0m\u001b[0mscores\u001b[0m\u001b[0;34m)\u001b[0m\u001b[0;34m\u001b[0m\u001b[0;34m\u001b[0m\u001b[0m\n\u001b[1;32m     16\u001b[0m \u001b[0;34m\u001b[0m\u001b[0m\n\u001b[0;32m---> 17\u001b[0;31m \u001b[0mmean\u001b[0m\u001b[0;34m,\u001b[0m \u001b[0mstd\u001b[0m \u001b[0;34m=\u001b[0m \u001b[0mevaluate\u001b[0m\u001b[0;34m(\u001b[0m\u001b[0mpolicy\u001b[0m\u001b[0;34m)\u001b[0m\u001b[0;34m\u001b[0m\u001b[0;34m\u001b[0m\u001b[0m\n\u001b[0m\u001b[1;32m     18\u001b[0m \u001b[0mprint\u001b[0m\u001b[0;34m(\u001b[0m\u001b[0;34mf\"Average reward over 100 runs: {mean:.1f} ± {std:.1f}\"\u001b[0m\u001b[0;34m)\u001b[0m\u001b[0;34m\u001b[0m\u001b[0;34m\u001b[0m\u001b[0m\n",
            "\u001b[0;31mNameError\u001b[0m: name 'policy' is not defined"
          ]
        }
      ]
    }
  ],
  "metadata": {
    "kernelspec": {
      "display_name": "Python 3",
      "name": "python3"
    },
    "language_info": {
      "name": "python",
      "version": "3.10"
    },
    "colab": {
      "provenance": []
    }
  },
  "nbformat": 4,
  "nbformat_minor": 5
}